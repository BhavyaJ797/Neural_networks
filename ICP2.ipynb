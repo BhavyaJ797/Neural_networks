{
  "nbformat": 4,
  "nbformat_minor": 0,
  "metadata": {
    "colab": {
      "provenance": []
    },
    "kernelspec": {
      "name": "python3",
      "display_name": "Python 3"
    },
    "language_info": {
      "name": "python"
    }
  },
  "cells": [
    {
      "cell_type": "code",
      "execution_count": 3,
      "metadata": {
        "colab": {
          "base_uri": "https://localhost:8080/"
        },
        "id": "O9PVOmcjIYR2",
        "outputId": "ff7ea65f-8b41-497d-dfcc-4dafe6af7224"
      },
      "outputs": [
        {
          "output_type": "stream",
          "name": "stdout",
          "text": [
            "Staff Information:\n",
            "First Name: Arisu, Last Name: Leo, Salary: 55000, Division: Engineering\n",
            "First Name: Usagi, Last Name: Zen, Salary: 62000, Division: Marketing\n",
            "First Name: Momoka, Last Name: Jack, Salary: 75000, Division: HR, Perks: Medical Coverage\n",
            "\n",
            "Average Salary of Staff Members: 64000.0\n",
            "\n",
            "Total Number of Staff Members: 3\n"
          ]
        }
      ],
      "source": [
        "class StaffMember:\n",
        "    total_staff = 0\n",
        "\n",
        "    def __init__(self, first_name, last_name, salary, division):\n",
        "        self.first_name = first_name\n",
        "        self.last_name = last_name\n",
        "        self.salary = salary\n",
        "        self.division = division\n",
        "        StaffMember.total_staff += 1\n",
        "\n",
        "    @classmethod\n",
        "    def calculate_average_salary(cls, staff_list):\n",
        "        if not staff_list:\n",
        "            return 0\n",
        "        total_salary = sum(staff.salary for staff in staff_list)\n",
        "        return total_salary / len(staff_list)\n",
        "\n",
        "    def show_details(self):\n",
        "        return f\"First Name: {self.first_name}, Last Name: {self.last_name}, Salary: {self.salary}, Division: {self.division}\"\n",
        "\n",
        "class PermanentStaff(StaffMember):\n",
        "    def __init__(self, first_name, last_name, salary, division, perks):\n",
        "        super().__init__(first_name, last_name, salary, division)\n",
        "        self.perks = perks\n",
        "\n",
        "    def show_details(self):\n",
        "        base_info = super().show_details()\n",
        "        return f\"{base_info}, Perks: {self.perks}\"\n",
        "\n",
        "staff1 = StaffMember(first_name=\"Arisu\", last_name=\"Leo\", salary=55000, division=\"Engineering\")\n",
        "staff2 = StaffMember(first_name=\"Usagi\", last_name=\"Zen\", salary=62000, division=\"Marketing\")\n",
        "permanent_staff1 = PermanentStaff(first_name=\"Momoka\", last_name=\"Jack\", salary=75000, division=\"HR\", perks=\"Medical Coverage\")\n",
        "\n",
        "staff_list = [staff1, staff2, permanent_staff1]\n",
        "\n",
        "print(\"Staff Information:\")\n",
        "print(staff1.show_details())\n",
        "print(staff2.show_details())\n",
        "print(permanent_staff1.show_details())\n",
        "\n",
        "print(\"\\nAverage Salary of Staff Members:\", StaffMember.calculate_average_salary(staff_list))\n",
        "\n",
        "print(\"\\nTotal Number of Staff Members:\", StaffMember.total_staff)"
      ]
    },
    {
      "cell_type": "code",
      "source": [
        "import numpy as np\n",
        "random_vector = np.random.uniform(1, 20, size=20)\n",
        "reshaped_matrix = random_vector.reshape(4, 5)\n",
        "max_positions = np.argmax(reshaped_matrix, axis=1)\n",
        "updated_matrix = reshaped_matrix.copy()\n",
        "np.put_along_axis(updated_matrix, max_positions[:, None], 0, axis=1)\n",
        "print(\"Original Matrix:\")\n",
        "print(reshaped_matrix)\n",
        "print(\"\\nUpdated Matrix:\")\n",
        "print(updated_matrix)"
      ],
      "metadata": {
        "colab": {
          "base_uri": "https://localhost:8080/"
        },
        "id": "X9RP6SFsKM24",
        "outputId": "364f145f-45cb-4ae8-9780-0c71a6035fca"
      },
      "execution_count": 4,
      "outputs": [
        {
          "output_type": "stream",
          "name": "stdout",
          "text": [
            "Original Matrix:\n",
            "[[ 4.92168706  9.17468545  2.96981241 13.46753979  2.23759615]\n",
            " [14.94310319 10.84389907  1.82268206 16.09788231  2.51928939]\n",
            " [ 6.11836971 11.93304951 11.20944558 14.57888518 12.53681819]\n",
            " [11.3084094  16.07880742  7.14903027  4.52145455  1.67820908]]\n",
            "\n",
            "Updated Matrix:\n",
            "[[ 4.92168706  9.17468545  2.96981241  0.          2.23759615]\n",
            " [14.94310319 10.84389907  1.82268206  0.          2.51928939]\n",
            " [ 6.11836971 11.93304951 11.20944558  0.         12.53681819]\n",
            " [11.3084094   0.          7.14903027  4.52145455  1.67820908]]\n"
          ]
        }
      ]
    }
  ]
}
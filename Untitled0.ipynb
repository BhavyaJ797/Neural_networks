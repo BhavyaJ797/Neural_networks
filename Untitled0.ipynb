{
  "nbformat": 4,
  "nbformat_minor": 0,
  "metadata": {
    "colab": {
      "provenance": []
    },
    "kernelspec": {
      "name": "python3",
      "display_name": "Python 3"
    },
    "language_info": {
      "name": "python"
    }
  },
  "cells": [
    {
      "cell_type": "code",
      "execution_count": 3,
      "metadata": {
        "colab": {
          "base_uri": "https://localhost:8080/"
        },
        "id": "hbfbfXYgJRvB",
        "outputId": "2bc7b9ed-330d-49b8-8938-53c7681f1d7a"
      },
      "outputs": [
        {
          "output_type": "stream",
          "name": "stdout",
          "text": [
            "Enter your first name: Bhavya\n",
            "Enter your last name: Jaddu\n",
            "Bhavya Jaddu\n",
            "Bay ad\n"
          ]
        }
      ],
      "source": [
        "def fullname(f_name, l_name):\n",
        "  return f_name+\" \"+l_name\n",
        "def alternative_string(fullname):\n",
        "  return fullname[::2]\n",
        "if __name__ == \"__main__\":\n",
        "   f_name = input(\"Enter your first name: \")\n",
        "   l_name = input(\"Enter your last name: \")\n",
        "   print(fullname(f_name, l_name))\n",
        "   print(alternative_string(fullname(f_name,l_name)))"
      ]
    },
    {
      "cell_type": "code",
      "source": [
        "from collections import Counter\n",
        "def count_words_in_file(input_file, output_file):\n",
        "    try:\n",
        "        with open(input_file, 'r') as infile:\n",
        "            lines = infile.readlines()\n",
        "        word_counter = Counter()\n",
        "        for line in lines:\n",
        "            words = line.strip().split()\n",
        "            word_counter.update(words)\n",
        "        output_lines = []\n",
        "        output_lines.append(\"Word_Count:\")\n",
        "        for word, count in word_counter.items():\n",
        "            output_lines.append(f\"{word}: {count}\")\n",
        "\n",
        "        print(\"\\n\".join(line.strip() for line in lines))\n",
        "        print(\"\\n\".join(output_lines))\n",
        "        with open(output_file, 'w') as outfile:\n",
        "            outfile.write(\"\\n\".join(line.strip() for line in lines) + \"\\n\")\n",
        "            outfile.write(\"\\n\".join(output_lines))\n",
        "\n",
        "        print(f\"Word counts have been written to {output_file}.\")\n",
        "\n",
        "    except FileNotFoundError:\n",
        "        print(f\"Error: The file {input_file} was not found.\")\n",
        "    except IOError as e:\n",
        "        print(f\"Error: An I/O error occurred. {e}\")\n",
        "input_file = '/input.txt'\n",
        "output_file = 'output.txt'\n",
        "count_words_in_file(input_file, output_file)\n"
      ],
      "metadata": {
        "colab": {
          "base_uri": "https://localhost:8080/"
        },
        "id": "u-N7fw37ORX9",
        "outputId": "91d19666-a372-4eff-ec51-d944fa0df705"
      },
      "execution_count": 13,
      "outputs": [
        {
          "output_type": "stream",
          "name": "stdout",
          "text": [
            "Python Course\n",
            "Deep Learning Course\n",
            "Word_Count:\n",
            "Python: 1\n",
            "Course: 2\n",
            "Deep: 1\n",
            "Learning: 1\n",
            "Word counts have been written to output.txt.\n"
          ]
        }
      ]
    },
    {
      "cell_type": "code",
      "source": [
        "def inches_to_centimeters(inches):\n",
        "    \"\"\"Convert inches to centimeters.\"\"\"\n",
        "    return inches * 2.54\n",
        "if __name__ == \"__main__\":\n",
        "    n = int(input(\"Enter the number of heights to be recorded: \"))\n",
        "    heights_in_inches = []\n",
        "    heights_in_centimeters = []\n",
        "    for i in range(n):\n",
        "        height = float(input(f\"Enter height {i + 1} in inches: \"))\n",
        "        heights_in_inches.append(height)\n",
        "    for height in heights_in_inches:\n",
        "        height_cm = inches_to_centimeters(height)\n",
        "        heights_in_centimeters.append(height_cm)\n",
        "    print(\"\\nHeights in inches:\")\n",
        "    for height in heights_in_inches:\n",
        "        print(height)\n",
        "    print(\"\\nHeights in centimeters:\")\n",
        "    for height in heights_in_centimeters:\n",
        "        print(height)\n"
      ],
      "metadata": {
        "colab": {
          "base_uri": "https://localhost:8080/"
        },
        "id": "3pUKVxsrWtSZ",
        "outputId": "617ec5a6-7b9a-4b70-b3f3-0a0473558e3d"
      },
      "execution_count": 17,
      "outputs": [
        {
          "output_type": "stream",
          "name": "stdout",
          "text": [
            "Enter the number of heights to be recorded: 4\n",
            "Enter height 1 in inches: 68.03\n",
            "Enter height 2 in inches: 70.3\n",
            "Enter height 3 in inches: 65.77\n",
            "Enter height 4 in inches: 67.13\n",
            "\n",
            "Heights in inches:\n",
            "68.03\n",
            "70.3\n",
            "65.77\n",
            "67.13\n",
            "\n",
            "Heights in centimeters:\n",
            "172.7962\n",
            "178.56199999999998\n",
            "167.0558\n",
            "170.5102\n"
          ]
        }
      ]
    },
    {
      "cell_type": "code",
      "source": [
        "def inches_to_centimeters(inches):\n",
        "    return inches * 2.54\n",
        "if __name__ == \"__main__\":\n",
        "    n = int(input(\"Enter the number of heights to be recorded: \"))\n",
        "    heights_in_inches = [float(input(f\"Enter height {i + 1} in inches: \")) for i in range(n)]\n",
        "    heights_in_centimeters = [inches_to_centimeters(height) for height in heights_in_inches]\n",
        "    print(\"\\nHeights in inches:\")\n",
        "    for height in heights_in_inches:\n",
        "        print(height)\n",
        "    print(\"\\nHeights in centimeters:\")\n",
        "    for height in heights_in_centimeters:\n",
        "        print(height)\n"
      ],
      "metadata": {
        "colab": {
          "base_uri": "https://localhost:8080/"
        },
        "id": "hHf3bPrPaInT",
        "outputId": "87c30421-2bef-44d4-f952-3b7d55815212"
      },
      "execution_count": 18,
      "outputs": [
        {
          "output_type": "stream",
          "name": "stdout",
          "text": [
            "Enter the number of heights to be recorded: 4\n",
            "Enter height 1 in inches: 150\n",
            "Enter height 2 in inches: 155\n",
            "Enter height 3 in inches: 145\n",
            "Enter height 4 in inches: 148\n",
            "\n",
            "Heights in inches:\n",
            "150.0\n",
            "155.0\n",
            "145.0\n",
            "148.0\n",
            "\n",
            "Heights in centimeters:\n",
            "381.0\n",
            "393.7\n",
            "368.3\n",
            "375.92\n"
          ]
        }
      ]
    }
  ]
}